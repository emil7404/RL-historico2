{
 "cells": [
  {
   "cell_type": "markdown",
   "id": "6c0b3838",
   "metadata": {},
   "source": [
    "# Sistema en Capas: ARL - utilitarios"
   ]
  },
  {
   "cell_type": "code",
   "execution_count": null,
   "id": "877cf49b",
   "metadata": {},
   "outputs": [],
   "source": [
    "\n",
    "import numpy as np\n",
    "def throttle(position_signal, max_pos=1.0, k=0.5):\n",
    "    return np.clip(k*position_signal, -max_pos, max_pos)\n",
    "def volatility_pause(returns, thresh=3.0):\n",
    "    v = np.std(returns[-50:]) if len(returns)>=50 else np.std(returns)\n",
    "    return v < thresh\n",
    "def dynamic_utility(score_hist, params_grid):\n",
    "    idx = int(np.argmax([np.mean(s[-20:]) for s in score_hist]))\n",
    "    return params_grid[idx]\n",
    "print(\"ARL utils listos.\")\n"
   ]
  }
 ],
 "metadata": {},
 "nbformat": 4,
 "nbformat_minor": 5
}
