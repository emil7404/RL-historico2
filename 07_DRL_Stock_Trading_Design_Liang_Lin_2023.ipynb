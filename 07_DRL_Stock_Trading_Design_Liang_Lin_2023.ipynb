{
 "cells": [
  {
   "cell_type": "markdown",
   "id": "f020f071",
   "metadata": {},
   "source": [
    "# Diseño de Estado/Acción/Recompensa y elección de algoritmo"
   ]
  },
  {
   "cell_type": "code",
   "execution_count": null,
   "id": "48a1b63b",
   "metadata": {},
   "outputs": [],
   "source": [
    "\n",
    "import itertools, numpy as np\n",
    "states = [\n",
    "    {\"name\":\"ret+lags\", \"dim\":16},\n",
    "    {\"name\":\"tech_indicators\", \"dim\":32},\n",
    "]\n",
    "actions = [\n",
    "    {\"name\":\"discrete_BSH\", \"k\":3},\n",
    "    {\"name\":\"alloc_continuous\", \"k\":1},\n",
    "]\n",
    "rewards = [\n",
    "    {\"name\":\"log_return\", \"risk\":\"none\"},\n",
    "    {\"name\":\"return_minus_costs\", \"risk\":\"drawdown_penalty\"},\n",
    "]\n",
    "algos = [\"DQN\",\"PPO\",\"A2C\"]\n",
    "grid = list(itertools.product(states, actions, rewards, algos))\n",
    "for i, cfg in enumerate(grid[:5]):\n",
    "    print(f\"Config {i+1}:\", cfg)\n",
    "print(\"Parrilla base lista.\")\n"
   ]
  }
 ],
 "metadata": {},
 "nbformat": 4,
 "nbformat_minor": 5
}
