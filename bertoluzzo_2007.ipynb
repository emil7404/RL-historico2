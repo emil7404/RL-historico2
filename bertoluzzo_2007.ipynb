{
 "cells": [
  {
   "cell_type": "markdown",
   "id": "cdfb3280",
   "metadata": {},
   "source": [
    "# Bertoluzzo (2007) — Intradía con umbrales y ajuste tipo RL\n",
    "Estrategia intradía basada en umbrales con ajuste online del umbral vía gradiente sobre PnL suavizado. Baseline pragmático que emula la filosofía del paper: simplicidad y robustez.\n"
   ]
  },
  {
   "cell_type": "code",
   "execution_count": null,
   "id": "447e0fb7",
   "metadata": {},
   "outputs": [],
   "source": [
    "\n",
    "import numpy as np\n",
    "import matplotlib.pyplot as plt\n",
    "rng = np.random.default_rng(7)\n"
   ]
  },
  {
   "cell_type": "code",
   "execution_count": null,
   "id": "60c9245e",
   "metadata": {},
   "outputs": [],
   "source": [
    "\n",
    "def intraday_returns(n=3000, sigma=0.0015, bursts=0.003, p_burst=0.02, seed=7):\n",
    "    rng = np.random.default_rng(seed)\n",
    "    r = rng.normal(0, sigma, size=n)\n",
    "    mask = rng.random(n) < p_burst\n",
    "    r[mask] += rng.normal(0, bursts, size=mask.sum())\n",
    "    return r\n",
    "\n",
    "r = intraday_returns()\n"
   ]
  },
  {
   "cell_type": "code",
   "execution_count": null,
   "id": "84a39f10",
   "metadata": {},
   "outputs": [],
   "source": [
    "\n",
    "def signals_threshold(r, theta):\n",
    "    sig = np.zeros_like(r)\n",
    "    sig[r > theta] = 1\n",
    "    sig[r < -theta] = -1\n",
    "    return sig\n",
    "\n",
    "def pnl_with_cost(sig, r, cost=0.00005):\n",
    "    ds = np.diff(sig, prepend=0)\n",
    "    pnl = sig*r - cost*np.abs(ds)\n",
    "    return pnl\n",
    "\n",
    "theta = 0.001\n",
    "lr = 0.1\n",
    "for epoch in range(10):\n",
    "    sig = signals_threshold(r, theta)\n",
    "    pnl = pnl_with_cost(sig, r)\n",
    "    # proxy grad: d pnl / d theta ≈ -sum( δ(r - theta) * r )  -> aproximar con banda suave\n",
    "    band = 200.0\n",
    "    edge_up = 0.5*(1+np.tanh(band*(r - theta)))\n",
    "    edge_dn = 0.5*(1+np.tanh(band*(-r - theta)))\n",
    "    # sensibilidad de señal a theta (aprox)\n",
    "    d_sig_d_theta = - (1 - edge_up**2) * band + - (1 - edge_dn**2) * band\n",
    "    grad = np.mean(d_sig_d_theta * r)  # muy heurístico pero estable para tuning\n",
    "    theta += lr * grad\n",
    "    theta = np.clip(theta, 1e-5, 0.01)\n",
    "\n",
    "sig = signals_threshold(r, theta)\n",
    "pnl = pnl_with_cost(sig, r)\n",
    "print(\"theta final:\", theta, \" SR:\", pnl.mean()/(pnl.std()+1e-9))\n",
    "\n",
    "plt.figure(); plt.plot(np.cumsum(pnl)); plt.title('Equity curve (threshold strategy)'); plt.show()\n"
   ]
  }
 ],
 "metadata": {},
 "nbformat": 4,
 "nbformat_minor": 5
}
