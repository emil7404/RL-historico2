{
 "cells": [
  {
   "cell_type": "markdown",
   "id": "75a871db",
   "metadata": {},
   "source": [
    "# Moody & Saffell (1998) — Direct Reinforcement para Trading\n",
    "Baseline sin redes. Política continua s_t = tanh(w^T x_t). Entrenamiento **online** para maximizar un proxy diferenciable del Sharpe.\n",
    "\n",
    "**Resumen técnico**\n",
    "- Señal: s_t ∈ [-1,1]\n",
    "- PnL: p_t = s_{t-1} r_t - c |Δs_t|\n",
    "- Objetivo: maximizar SR ≈ m/√(v+β) con momentos EMA.\n",
    "- Gradiente: regla tipo policy-gradient sobre p_t con cadena para SR.\n"
   ]
  },
  {
   "cell_type": "markdown",
   "id": "da41f0be",
   "metadata": {},
   "source": [
    "## Imports"
   ]
  },
  {
   "cell_type": "code",
   "execution_count": null,
   "id": "d882a232",
   "metadata": {},
   "outputs": [],
   "source": [
    "\n",
    "import numpy as np\n",
    "import matplotlib.pyplot as plt\n",
    "rng = np.random.default_rng(1998)\n"
   ]
  },
  {
   "cell_type": "markdown",
   "id": "4daa7964",
   "metadata": {},
   "source": [
    "## Datos sintéticos con tendencia + choques"
   ]
  },
  {
   "cell_type": "code",
   "execution_count": null,
   "id": "87a1a8b8",
   "metadata": {},
   "outputs": [],
   "source": [
    "\n",
    "def synthetic_returns(n=6000, ar=0.06, sigma=0.012, jump_p=0.0007, jump_s=0.06, seed=1998):\n",
    "    rng = np.random.default_rng(seed)\n",
    "    r = np.zeros(n)\n",
    "    for t in range(1,n):\n",
    "        r[t] = ar*r[t-1] + rng.normal(0, sigma)\n",
    "        if rng.random() < jump_p:\n",
    "            r[t] += rng.normal(0, jump_s)\n",
    "    return r\n",
    "\n",
    "r = synthetic_returns()\n",
    "plt.figure(); plt.plot(r[:800]); plt.title('Rendimientos sintéticos'); plt.show()\n"
   ]
  },
  {
   "cell_type": "markdown",
   "id": "4543ac04",
   "metadata": {},
   "source": [
    "## Features, señal y entrenamiento DR (Sharpe proxy)"
   ]
  },
  {
   "cell_type": "code",
   "execution_count": null,
   "id": "4c188d20",
   "metadata": {},
   "outputs": [],
   "source": [
    "\n",
    "def features(r, k=12):\n",
    "    X = []\n",
    "    for t in range(k, len(r)):\n",
    "        X.append(r[t-k:t][::-1])\n",
    "    return np.array(X), r[k:]\n",
    "\n",
    "def pnl(signal, ret, cost=0.0002):\n",
    "    ds = np.diff(signal, prepend=0.0)\n",
    "    return signal*ret - cost*np.abs(ds)\n",
    "\n",
    "def train_DR_1998(r, k=12, lr=0.03, ema=0.02, beta=1e-3, cost=0.0002, epochs=3):\n",
    "    X, y = features(r, k=k)\n",
    "    w = np.zeros(k)\n",
    "    m, v = 0.0, 1e-4\n",
    "    SR_hist = []\n",
    "    for ep in range(epochs):\n",
    "        for t in range(len(y)):\n",
    "            x = X[t]\n",
    "            s = np.tanh(x @ w)\n",
    "            s_prev = np.tanh((X[t-1] @ w) if t>0 else 0.0)\n",
    "            ds = s - s_prev\n",
    "            p = s*y[t] - cost*np.abs(ds)\n",
    "\n",
    "            m = (1-ema)*m + ema*p\n",
    "            v = (1-ema)*v + ema*(p - m)**2\n",
    "            sr = m/np.sqrt(v + beta)\n",
    "            SR_hist.append(sr)\n",
    "\n",
    "            # grad aproximado de p w.r.t. w\n",
    "            ds_sign = np.tanh(1000*ds)\n",
    "            dp_dw = (1 - s**2) * x * y[t] - cost * ds_sign * (1 - s**2) * x\n",
    "\n",
    "            # cadena para SR\n",
    "            d_sr_dm = 1/np.sqrt(v + beta)\n",
    "            d_sr_dv = -0.5*m*(v+beta)**(-1.5)\n",
    "            d_sr_dp = d_sr_dm*ema + d_sr_dv*(2*ema*(p - m))\n",
    "            grad = d_sr_dp * dp_dw\n",
    "\n",
    "            w += lr * grad\n",
    "    return w, np.array(SR_hist), X, y\n",
    "\n",
    "w, SR_hist, X, y = train_DR_1998(r, epochs=4)\n",
    "s = np.tanh(X @ w)\n",
    "p = pnl(s, y)\n",
    "print(\"Sharpe ex-post:\", p.mean()/(p.std()+1e-9))\n",
    "\n",
    "plt.figure(); plt.plot(np.cumsum(p)); plt.title('Equity curve (DR 1998)'); plt.show()\n",
    "plt.figure(); plt.plot(SR_hist); plt.title('Proxy SR durante entrenamiento'); plt.show()\n"
   ]
  }
 ],
 "metadata": {},
 "nbformat": 4,
 "nbformat_minor": 5
}
