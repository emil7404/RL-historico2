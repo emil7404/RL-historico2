{
 "cells": [
  {
   "cell_type": "markdown",
   "id": "d64383a7",
   "metadata": {},
   "source": [
    "# Moody, Wu, Liao & Saffell (2001) — Learning to Trade via Direct Reinforcement (DSR)\n",
    "Implementación educativa del **Differential Sharpe Ratio (DSR)** para actualización online. Política continua s_t = tanh(w^T x_t).\n",
    "\n",
    "**Claves**\n",
    "- Momentos EMA: m_t y v_t\n",
    "- DSR_t = (m_t - m_{t-1}) / √(v_t)\n",
    "- Actualización: gradiente sobre DSR_t vía regla de la cadena\n"
   ]
  },
  {
   "cell_type": "markdown",
   "id": "c4b74424",
   "metadata": {},
   "source": [
    "## Imports"
   ]
  },
  {
   "cell_type": "code",
   "execution_count": null,
   "id": "89521228",
   "metadata": {},
   "outputs": [],
   "source": [
    "\n",
    "import numpy as np\n",
    "import matplotlib.pyplot as plt\n",
    "rng = np.random.default_rng(2001)\n"
   ]
  },
  {
   "cell_type": "markdown",
   "id": "72e238df",
   "metadata": {},
   "source": [
    "## Datos sintéticos AR con regímenes"
   ]
  },
  {
   "cell_type": "code",
   "execution_count": null,
   "id": "f1f6d293",
   "metadata": {},
   "outputs": [],
   "source": [
    "\n",
    "def regime_returns(n=7000, sigma=0.012, seed=2001):\n",
    "    rng = np.random.default_rng(seed)\n",
    "    r = np.zeros(n)\n",
    "    regime = 1\n",
    "    for t in range(1,n):\n",
    "        if rng.random() < 0.001:\n",
    "            regime *= -1  # cambia régimen\n",
    "        ar = 0.07 if regime>0 else -0.02\n",
    "        r[t] = ar*r[t-1] + rng.normal(0, sigma)\n",
    "    return r\n",
    "\n",
    "r = regime_returns()\n",
    "plt.figure(); plt.plot(r[:900]); plt.title('Rendimientos con regímenes'); plt.show()\n"
   ]
  },
  {
   "cell_type": "markdown",
   "id": "0e2661b8",
   "metadata": {},
   "source": [
    "## DSR training"
   ]
  },
  {
   "cell_type": "code",
   "execution_count": null,
   "id": "4226138f",
   "metadata": {},
   "outputs": [],
   "source": [
    "\n",
    "def features(r, k=16):\n",
    "    X = []\n",
    "    for t in range(k, len(r)):\n",
    "        X.append(r[t-k:t][::-1])\n",
    "    return np.array(X), r[k:]\n",
    "\n",
    "def pnl(signal, ret, cost=0.00025):\n",
    "    ds = np.diff(signal, prepend=0.0)\n",
    "    return signal*ret - cost*np.abs(ds)\n",
    "\n",
    "def train_DSR_2001(r, k=16, lr=0.02, ema=0.02, beta=1e-3, cost=0.00025, epochs=3):\n",
    "    X, y = features(r, k=k)\n",
    "    w = np.zeros(k)\n",
    "    m_prev, v_prev = 0.0, 1e-4\n",
    "    m, v = 0.0, 1e-4\n",
    "    DSR_hist = []\n",
    "    for ep in range(epochs):\n",
    "        for t in range(len(y)):\n",
    "            x = X[t]\n",
    "            s = np.tanh(x @ w)\n",
    "            s_prev = np.tanh((X[t-1] @ w) if t>0 else 0.0)\n",
    "            ds = s - s_prev\n",
    "\n",
    "            p = s*y[t] - cost*np.abs(ds)\n",
    "            # actualizar momentos\n",
    "            m = (1-ema)*m_prev + ema*p\n",
    "            v = (1-ema)*v_prev + ema*(p - m_prev)**2\n",
    "\n",
    "            dsr = (m - m_prev) / np.sqrt(v + beta)\n",
    "            DSR_hist.append(dsr)\n",
    "\n",
    "            # derivadas\n",
    "            ds_sign = np.tanh(1000*ds)\n",
    "            dp_dw = (1 - s**2) * x * y[t] - cost * ds_sign * (1 - s**2) * x\n",
    "            # ∂m/∂p ≈ ema ; ∂v/∂p ≈ 2*ema*(p - m_prev)\n",
    "            d_dsr_dm = 1/np.sqrt(v + beta)\n",
    "            d_dsr_dv = -0.5*(m - m_prev)*(v+beta)**(-1.5)\n",
    "            d_dsr_dp = d_dsr_dm*ema + d_dsr_dv*(2*ema*(p - m_prev))\n",
    "\n",
    "            grad = d_dsr_dp * dp_dw\n",
    "            w += lr * grad\n",
    "\n",
    "            m_prev, v_prev = m, v\n",
    "    return w, np.array(DSR_hist), X, y\n",
    "\n",
    "w, DSR_hist, X, y = train_DSR_2001(r, epochs=4)\n",
    "s = np.tanh(X @ w)\n",
    "p = pnl(s, y)\n",
    "print(\"Sharpe ex-post:\", p.mean()/(p.std()+1e-9))\n",
    "\n",
    "plt.figure(); plt.plot(np.cumsum(p)); plt.title('Equity curve (DSR 2001)'); plt.show()\n",
    "plt.figure(); plt.plot(DSR_hist); plt.title('DSR durante entrenamiento'); plt.show()\n"
   ]
  }
 ],
 "metadata": {},
 "nbformat": 4,
 "nbformat_minor": 5
}
