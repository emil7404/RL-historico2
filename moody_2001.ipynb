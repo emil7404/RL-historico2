{
 "cells": [
  {
   "cell_type": "markdown",
   "id": "f87248f2",
   "metadata": {},
   "source": [
    "# Moody (2001) — RL para trading con objetivo tipo Sharpe\n",
    "Baseline educativo sin redes. Política lineal con tanh, entrenamiento en línea con proxy diferenciable del Sharpe. Acciones continuas en [-1,1] como fracción de capital expuesto. Incluye costos de transacción.\n",
    "\n",
    "**Contenido**\n",
    "1) Datos sintéticos\n",
    "2) Señal paramétrica s_t = tanh(w^T x_t)\n",
    "3) PnL con costos y EMA de media/varianza\n",
    "4) Paso de gradiente sobre Sharpe proxy\n",
    "5) Backtest y métricas\n"
   ]
  },
  {
   "cell_type": "markdown",
   "id": "88d650d6",
   "metadata": {},
   "source": [
    "## Imports"
   ]
  },
  {
   "cell_type": "code",
   "execution_count": null,
   "id": "80ef9bfb",
   "metadata": {},
   "outputs": [],
   "source": [
    "\n",
    "import numpy as np\n",
    "import matplotlib.pyplot as plt\n",
    "rng = np.random.default_rng(123)\n"
   ]
  },
  {
   "cell_type": "markdown",
   "id": "c7de82d8",
   "metadata": {},
   "source": [
    "## Datos sintéticos"
   ]
  },
  {
   "cell_type": "code",
   "execution_count": null,
   "id": "5276504a",
   "metadata": {},
   "outputs": [],
   "source": [
    "\n",
    "def synthetic_returns(n=5000, ar=0.05, sigma=0.012, jumps=0.0005, jscale=0.05, seed=123):\n",
    "    rng = np.random.default_rng(seed)\n",
    "    r = np.zeros(n)\n",
    "    for t in range(1,n):\n",
    "        r[t] = ar*r[t-1] + rng.normal(0,sigma)\n",
    "        if rng.random() < jumps:\n",
    "            r[t] += rng.normal(0, jscale)\n",
    "    return r\n",
    "\n",
    "r = synthetic_returns()\n",
    "plt.figure(); plt.plot(r[:600]); plt.title('Rendimientos sintéticos'); plt.show()\n"
   ]
  },
  {
   "cell_type": "markdown",
   "id": "74d7a0d1",
   "metadata": {},
   "source": [
    "## Señal, PnL y entrenamiento tipo Moody 2001"
   ]
  },
  {
   "cell_type": "code",
   "execution_count": null,
   "id": "43a20f7f",
   "metadata": {},
   "outputs": [],
   "source": [
    "\n",
    "def features(r, k=12):\n",
    "    X = []\n",
    "    for t in range(k, len(r)):\n",
    "        X.append(r[t-k:t][::-1])\n",
    "    return np.array(X), r[k:]\n",
    "\n",
    "def pnl_from_signal(signal, ret, cost=0.0002):\n",
    "    ds = np.diff(signal, prepend=0.0)\n",
    "    return signal*ret - cost*np.abs(ds)\n",
    "\n",
    "def train_moody2001(r, k=12, lr=0.03, ema=0.02, beta=1e-3, cost=0.0002, epochs=3):\n",
    "    X, y = features(r, k=k)\n",
    "    w = np.zeros(k)\n",
    "    m, v = 0.0, 1e-4\n",
    "    SR_track, w_track = [], []\n",
    "    for ep in range(epochs):\n",
    "        for t in range(len(y)):\n",
    "            x = X[t]\n",
    "            s = np.tanh(x @ w)\n",
    "            s_prev = np.tanh((X[t-1] @ w) if t>0 else 0.0)\n",
    "            ds = s - s_prev\n",
    "            pnl = s*y[t] - cost*np.abs(ds)\n",
    "            # EMA momentos\n",
    "            m = (1-ema)*m + ema*pnl\n",
    "            v = (1-ema)*v + ema*(pnl - m)**2\n",
    "            sr = m/np.sqrt(v + beta)\n",
    "            SR_track.append(sr)\n",
    "\n",
    "            # Gradiente (proxy): d pnl/d w\n",
    "            ds_sign = np.tanh(1000*ds)\n",
    "            dpnl_dw = (1 - s**2) * x * y[t] - cost * ds_sign * (1 - s**2) * x\n",
    "            # Cadena para SR\n",
    "            d_sr_dm = 1/np.sqrt(v + beta)\n",
    "            d_sr_dv = -0.5*m*(v+beta)**(-1.5)\n",
    "            d_sr_dpnl = d_sr_dm*ema + d_sr_dv*(2*ema*(pnl - m))\n",
    "            grad = d_sr_dpnl * dpnl_dw\n",
    "            w += lr*grad\n",
    "            if t % 500 == 0: w_track.append(w.copy())\n",
    "    return w, np.array(SR_track), X, y\n",
    "\n",
    "w, SR_tr, X, y = train_moody2001(r, epochs=4)\n",
    "signal = np.tanh(X @ w)\n",
    "pnl = pnl_from_signal(signal, y)\n",
    "print(\"Sharpe ex-post:\", pnl.mean()/(pnl.std()+1e-9))\n",
    "\n",
    "plt.figure(); plt.plot(np.cumsum(pnl)); plt.title('Equity curve'); plt.show()\n"
   ]
  }
 ],
 "metadata": {},
 "nbformat": 4,
 "nbformat_minor": 5
}
